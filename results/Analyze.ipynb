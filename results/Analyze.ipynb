{
 "cells": [
  {
   "cell_type": "code",
   "execution_count": 1,
   "metadata": {},
   "outputs": [],
   "source": [
    "%matplotlib inline\n",
    "import pandas as pd\n",
    "import seaborn as sns\n",
    "import matplotlib\n",
    "import matplotlib.pyplot as plt\n",
    "sns.set_style(\"whitegrid\")"
   ]
  },
  {
   "cell_type": "markdown",
   "metadata": {},
   "source": [
    "## Read data"
   ]
  },
  {
   "cell_type": "code",
   "execution_count": 2,
   "metadata": {},
   "outputs": [],
   "source": [
    "df = pd.read_csv('stats.csv')\n",
    "EDITED = False"
   ]
  },
  {
   "cell_type": "code",
   "execution_count": 3,
   "metadata": {
    "scrolled": false
   },
   "outputs": [
    {
     "data": {
      "text/html": [
       "<div>\n",
       "<style scoped>\n",
       "    .dataframe tbody tr th:only-of-type {\n",
       "        vertical-align: middle;\n",
       "    }\n",
       "\n",
       "    .dataframe tbody tr th {\n",
       "        vertical-align: top;\n",
       "    }\n",
       "\n",
       "    .dataframe thead th {\n",
       "        text-align: right;\n",
       "    }\n",
       "</style>\n",
       "<table border=\"1\" class=\"dataframe\">\n",
       "  <thead>\n",
       "    <tr style=\"text-align: right;\">\n",
       "      <th></th>\n",
       "      <th>sizex</th>\n",
       "      <th>sizey</th>\n",
       "      <th>sizez</th>\n",
       "      <th>fill</th>\n",
       "      <th>ndatapts</th>\n",
       "      <th>ttotal</th>\n",
       "      <th>tksearch</th>\n",
       "      <th>tfrsearch</th>\n",
       "      <th>tprocessing</th>\n",
       "    </tr>\n",
       "  </thead>\n",
       "  <tbody>\n",
       "    <tr>\n",
       "      <th>count</th>\n",
       "      <td>84.000</td>\n",
       "      <td>84.00</td>\n",
       "      <td>84.000</td>\n",
       "      <td>84.000000</td>\n",
       "      <td>84.000000</td>\n",
       "      <td>84.000000</td>\n",
       "      <td>84.000000</td>\n",
       "      <td>84.000000</td>\n",
       "      <td>84.000000</td>\n",
       "    </tr>\n",
       "    <tr>\n",
       "      <th>mean</th>\n",
       "      <td>0.005</td>\n",
       "      <td>0.01</td>\n",
       "      <td>0.005</td>\n",
       "      <td>0.332151</td>\n",
       "      <td>83037.857143</td>\n",
       "      <td>10.659642</td>\n",
       "      <td>0.031636</td>\n",
       "      <td>0.022630</td>\n",
       "      <td>10.595773</td>\n",
       "    </tr>\n",
       "    <tr>\n",
       "      <th>std</th>\n",
       "      <td>0.000</td>\n",
       "      <td>0.00</td>\n",
       "      <td>0.000</td>\n",
       "      <td>0.298495</td>\n",
       "      <td>74623.735827</td>\n",
       "      <td>9.268174</td>\n",
       "      <td>0.017757</td>\n",
       "      <td>0.015135</td>\n",
       "      <td>9.236130</td>\n",
       "    </tr>\n",
       "    <tr>\n",
       "      <th>min</th>\n",
       "      <td>0.005</td>\n",
       "      <td>0.01</td>\n",
       "      <td>0.005</td>\n",
       "      <td>0.028800</td>\n",
       "      <td>7200.000000</td>\n",
       "      <td>2.646850</td>\n",
       "      <td>0.012674</td>\n",
       "      <td>0.008395</td>\n",
       "      <td>2.619030</td>\n",
       "    </tr>\n",
       "    <tr>\n",
       "      <th>25%</th>\n",
       "      <td>0.005</td>\n",
       "      <td>0.01</td>\n",
       "      <td>0.005</td>\n",
       "      <td>0.110592</td>\n",
       "      <td>27648.000000</td>\n",
       "      <td>3.356513</td>\n",
       "      <td>0.016149</td>\n",
       "      <td>0.010328</td>\n",
       "      <td>3.322078</td>\n",
       "    </tr>\n",
       "    <tr>\n",
       "      <th>50%</th>\n",
       "      <td>0.005</td>\n",
       "      <td>0.01</td>\n",
       "      <td>0.005</td>\n",
       "      <td>0.132936</td>\n",
       "      <td>33234.000000</td>\n",
       "      <td>4.427050</td>\n",
       "      <td>0.022231</td>\n",
       "      <td>0.014125</td>\n",
       "      <td>4.390080</td>\n",
       "    </tr>\n",
       "    <tr>\n",
       "      <th>75%</th>\n",
       "      <td>0.005</td>\n",
       "      <td>0.01</td>\n",
       "      <td>0.005</td>\n",
       "      <td>0.512000</td>\n",
       "      <td>128000.000000</td>\n",
       "      <td>18.343600</td>\n",
       "      <td>0.049154</td>\n",
       "      <td>0.035290</td>\n",
       "      <td>18.244625</td>\n",
       "    </tr>\n",
       "    <tr>\n",
       "      <th>max</th>\n",
       "      <td>0.005</td>\n",
       "      <td>0.01</td>\n",
       "      <td>0.005</td>\n",
       "      <td>1.000000</td>\n",
       "      <td>250000.000000</td>\n",
       "      <td>26.918700</td>\n",
       "      <td>0.060334</td>\n",
       "      <td>0.048218</td>\n",
       "      <td>26.803100</td>\n",
       "    </tr>\n",
       "  </tbody>\n",
       "</table>\n",
       "</div>"
      ],
      "text/plain": [
       "        sizex  sizey   sizez       fill       ndatapts     ttotal   tksearch  \\\n",
       "count  84.000  84.00  84.000  84.000000      84.000000  84.000000  84.000000   \n",
       "mean    0.005   0.01   0.005   0.332151   83037.857143  10.659642   0.031636   \n",
       "std     0.000   0.00   0.000   0.298495   74623.735827   9.268174   0.017757   \n",
       "min     0.005   0.01   0.005   0.028800    7200.000000   2.646850   0.012674   \n",
       "25%     0.005   0.01   0.005   0.110592   27648.000000   3.356513   0.016149   \n",
       "50%     0.005   0.01   0.005   0.132936   33234.000000   4.427050   0.022231   \n",
       "75%     0.005   0.01   0.005   0.512000  128000.000000  18.343600   0.049154   \n",
       "max     0.005   0.01   0.005   1.000000  250000.000000  26.918700   0.060334   \n",
       "\n",
       "       tfrsearch  tprocessing  \n",
       "count  84.000000    84.000000  \n",
       "mean    0.022630    10.595773  \n",
       "std     0.015135     9.236130  \n",
       "min     0.008395     2.619030  \n",
       "25%     0.010328     3.322078  \n",
       "50%     0.014125     4.390080  \n",
       "75%     0.035290    18.244625  \n",
       "max     0.048218    26.803100  "
      ]
     },
     "execution_count": 3,
     "metadata": {},
     "output_type": "execute_result"
    }
   ],
   "source": [
    "df.head()\n",
    "df.describe()"
   ]
  },
  {
   "cell_type": "markdown",
   "metadata": {},
   "source": [
    "## Cleanup"
   ]
  },
  {
   "cell_type": "code",
   "execution_count": 4,
   "metadata": {},
   "outputs": [],
   "source": [
    "if EDITED:\n",
    "    print(\"Not reapplying cleanup.\")\n",
    "else:\n",
    "    EDITED = True\n",
    "    # fill to percent\n",
    "    df['fill'] = (df['fill']*100).astype(int)\n"
   ]
  },
  {
   "cell_type": "code",
   "execution_count": 5,
   "metadata": {},
   "outputs": [
    {
     "data": {
      "image/png": "[encoded data removed]",
      "text/plain": [
       "<Figure size 1080x432 with 1 Axes>"
      ]
     },
     "metadata": {
      "needs_background": "light"
     },
     "output_type": "display_data"
    }
   ],
   "source": [
    "fig, ax = plt.subplots(figsize=(15,6))\n",
    "ax = sns.stripplot(x=\"filltype\", y=\"ttotal\", data=df, ax=ax)\n",
    "plt.title(\"Total processing time\");"
   ]
  },
  {
   "cell_type": "code",
   "execution_count": 6,
   "metadata": {},
   "outputs": [
    {
     "data": {
      "image/png": "[encoded data removed]",
      "text/plain": [
       "<Figure size 1080x432 with 1 Axes>"
      ]
     },
     "metadata": {
      "needs_background": "light"
     },
     "output_type": "display_data"
    }
   ],
   "source": [
    "fig, ax = plt.subplots(figsize=(15,6))\n",
    "sns.stripplot(x=\"filltype\", y=\"tksearch\", data=df, ax=ax)\n",
    "plt.title(\"Time determining number of neighbors\");"
   ]
  },
  {
   "cell_type": "code",
   "execution_count": 7,
   "metadata": {},
   "outputs": [
    {
     "data": {
      "image/png": "[encoded data removed]",
      "text/plain": [
       "<Figure size 1080x432 with 1 Axes>"
      ]
     },
     "metadata": {
      "needs_background": "light"
     },
     "output_type": "display_data"
    }
   ],
   "source": [
    "fig, ax = plt.subplots(figsize=(15,6))\n",
    "ax = sns.stripplot(x=\"filltype\", y=\"tfrsearch\", data=df, ax=ax)\n",
    "plt.title(\"Fixed radius NN search time\");"
   ]
  },
  {
   "cell_type": "code",
   "execution_count": 21,
   "metadata": {},
   "outputs": [
    {
     "data": {
      "image/png": "[encoded data removed]",
      "text/plain": [
       "<Figure size 1080x432 with 1 Axes>"
      ]
     },
     "metadata": {
      "needs_background": "light"
     },
     "output_type": "display_data"
    }
   ],
   "source": [
    "fig, ax = plt.subplots(figsize=(15,6))\n",
    "ax = sns.stripplot(x=\"filltype\", y=\"tprocessing\", data=df, ax=ax, hue='fill')\n",
    "plt.title(\"Interaction list processing time\");"
   ]
  },
  {
   "cell_type": "code",
   "execution_count": 20,
   "metadata": {},
   "outputs": [
    {
     "name": "stderr",
     "output_type": "stream",
     "text": [
      "/usr/local/lib/python3.6/dist-packages/scipy/stats/stats.py:1713: FutureWarning: Using a non-tuple sequence for multidimensional indexing is deprecated; use `arr[tuple(seq)]` instead of `arr[seq]`. In the future this will be interpreted as an array index, `arr[np.array(seq)]`, which will result either in an error or a different result.\n",
      "  return np.add.reduce(sorted[indexer] * weights, axis=axis) / sumval\n"
     ]
    },
    {
     "data": {
      "image/png": "[encoded data removed]",
      "text/plain": [
       "<Figure size 952x432 with 1 Axes>"
      ]
     },
     "metadata": {
      "needs_background": "light"
     },
     "output_type": "display_data"
    }
   ],
   "source": [
    "g = sns.catplot(x=\"fill\", y=\"ttotal\", hue=\"filltype\", #col=\"filltype\",\n",
    "                capsize=.2, height=6, aspect=2.0,\n",
    "                kind=\"point\", data=df)"
   ]
  },
  {
   "cell_type": "code",
   "execution_count": 14,
   "metadata": {},
   "outputs": [
    {
     "data": {
      "text/html": [
       "<div>\n",
       "<style scoped>\n",
       "    .dataframe tbody tr th:only-of-type {\n",
       "        vertical-align: middle;\n",
       "    }\n",
       "\n",
       "    .dataframe tbody tr th {\n",
       "        vertical-align: top;\n",
       "    }\n",
       "\n",
       "    .dataframe thead th {\n",
       "        text-align: right;\n",
       "    }\n",
       "</style>\n",
       "<table border=\"1\" class=\"dataframe\">\n",
       "  <thead>\n",
       "    <tr style=\"text-align: right;\">\n",
       "      <th></th>\n",
       "      <th>sizex</th>\n",
       "      <th>sizey</th>\n",
       "      <th>sizez</th>\n",
       "      <th>fill</th>\n",
       "      <th>ndatapts</th>\n",
       "      <th>ttotal</th>\n",
       "      <th>tksearch</th>\n",
       "      <th>tfrsearch</th>\n",
       "      <th>tprocessing</th>\n",
       "    </tr>\n",
       "    <tr>\n",
       "      <th>filltype</th>\n",
       "      <th></th>\n",
       "      <th></th>\n",
       "      <th></th>\n",
       "      <th></th>\n",
       "      <th></th>\n",
       "      <th></th>\n",
       "      <th></th>\n",
       "      <th></th>\n",
       "      <th></th>\n",
       "    </tr>\n",
       "  </thead>\n",
       "  <tbody>\n",
       "    <tr>\n",
       "      <th>clusters10</th>\n",
       "      <td>0.005</td>\n",
       "      <td>0.01</td>\n",
       "      <td>0.005</td>\n",
       "      <td>51</td>\n",
       "      <td>128000</td>\n",
       "      <td>3.221962</td>\n",
       "      <td>0.015432</td>\n",
       "      <td>0.009797</td>\n",
       "      <td>3.188837</td>\n",
       "    </tr>\n",
       "    <tr>\n",
       "      <th>clusters2</th>\n",
       "      <td>0.005</td>\n",
       "      <td>0.01</td>\n",
       "      <td>0.005</td>\n",
       "      <td>11</td>\n",
       "      <td>27648</td>\n",
       "      <td>17.041122</td>\n",
       "      <td>0.045135</td>\n",
       "      <td>0.033037</td>\n",
       "      <td>16.954356</td>\n",
       "    </tr>\n",
       "    <tr>\n",
       "      <th>clusters20</th>\n",
       "      <td>0.005</td>\n",
       "      <td>0.01</td>\n",
       "      <td>0.005</td>\n",
       "      <td>51</td>\n",
       "      <td>128000</td>\n",
       "      <td>3.211331</td>\n",
       "      <td>0.019214</td>\n",
       "      <td>0.010846</td>\n",
       "      <td>3.172808</td>\n",
       "    </tr>\n",
       "    <tr>\n",
       "      <th>clusters4</th>\n",
       "      <td>0.005</td>\n",
       "      <td>0.01</td>\n",
       "      <td>0.005</td>\n",
       "      <td>11</td>\n",
       "      <td>27648</td>\n",
       "      <td>7.204293</td>\n",
       "      <td>0.030005</td>\n",
       "      <td>0.018195</td>\n",
       "      <td>7.140146</td>\n",
       "    </tr>\n",
       "    <tr>\n",
       "      <th>clusters5</th>\n",
       "      <td>0.005</td>\n",
       "      <td>0.01</td>\n",
       "      <td>0.005</td>\n",
       "      <td>51</td>\n",
       "      <td>128000</td>\n",
       "      <td>4.202576</td>\n",
       "      <td>0.016379</td>\n",
       "      <td>0.010999</td>\n",
       "      <td>4.167184</td>\n",
       "    </tr>\n",
       "    <tr>\n",
       "      <th>clusters6</th>\n",
       "      <td>0.005</td>\n",
       "      <td>0.01</td>\n",
       "      <td>0.005</td>\n",
       "      <td>11</td>\n",
       "      <td>27648</td>\n",
       "      <td>3.679344</td>\n",
       "      <td>0.019074</td>\n",
       "      <td>0.011369</td>\n",
       "      <td>3.639444</td>\n",
       "    </tr>\n",
       "    <tr>\n",
       "      <th>corners</th>\n",
       "      <td>0.005</td>\n",
       "      <td>0.01</td>\n",
       "      <td>0.005</td>\n",
       "      <td>9</td>\n",
       "      <td>24134</td>\n",
       "      <td>25.764039</td>\n",
       "      <td>0.057785</td>\n",
       "      <td>0.046995</td>\n",
       "      <td>25.650000</td>\n",
       "    </tr>\n",
       "    <tr>\n",
       "      <th>diagonal</th>\n",
       "      <td>0.005</td>\n",
       "      <td>0.01</td>\n",
       "      <td>0.005</td>\n",
       "      <td>11</td>\n",
       "      <td>29424</td>\n",
       "      <td>18.726433</td>\n",
       "      <td>0.045146</td>\n",
       "      <td>0.035249</td>\n",
       "      <td>18.635667</td>\n",
       "    </tr>\n",
       "    <tr>\n",
       "      <th>full</th>\n",
       "      <td>0.005</td>\n",
       "      <td>0.01</td>\n",
       "      <td>0.005</td>\n",
       "      <td>100</td>\n",
       "      <td>250000</td>\n",
       "      <td>3.159143</td>\n",
       "      <td>0.019412</td>\n",
       "      <td>0.011226</td>\n",
       "      <td>3.119220</td>\n",
       "    </tr>\n",
       "  </tbody>\n",
       "</table>\n",
       "</div>"
      ],
      "text/plain": [
       "            sizex  sizey  sizez  fill  ndatapts     ttotal  tksearch  \\\n",
       "filltype                                                               \n",
       "clusters10  0.005   0.01  0.005    51    128000   3.221962  0.015432   \n",
       "clusters2   0.005   0.01  0.005    11     27648  17.041122  0.045135   \n",
       "clusters20  0.005   0.01  0.005    51    128000   3.211331  0.019214   \n",
       "clusters4   0.005   0.01  0.005    11     27648   7.204293  0.030005   \n",
       "clusters5   0.005   0.01  0.005    51    128000   4.202576  0.016379   \n",
       "clusters6   0.005   0.01  0.005    11     27648   3.679344  0.019074   \n",
       "corners     0.005   0.01  0.005     9     24134  25.764039  0.057785   \n",
       "diagonal    0.005   0.01  0.005    11     29424  18.726433  0.045146   \n",
       "full        0.005   0.01  0.005   100    250000   3.159143  0.019412   \n",
       "\n",
       "            tfrsearch  tprocessing  \n",
       "filltype                            \n",
       "clusters10   0.009797     3.188837  \n",
       "clusters2    0.033037    16.954356  \n",
       "clusters20   0.010846     3.172808  \n",
       "clusters4    0.018195     7.140146  \n",
       "clusters5    0.010999     4.167184  \n",
       "clusters6    0.011369     3.639444  \n",
       "corners      0.046995    25.650000  \n",
       "diagonal     0.035249    18.635667  \n",
       "full         0.011226     3.119220  "
      ]
     },
     "execution_count": 14,
     "metadata": {},
     "output_type": "execute_result"
    }
   ],
   "source": [
    "df.groupby('filltype').mean()"
   ]
  },
  {
   "cell_type": "code",
   "execution_count": 18,
   "metadata": {},
   "outputs": [
    {
     "data": {
      "text/plain": [
       "<matplotlib.axes._subplots.AxesSubplot at 0x7fbb8463d710>"
      ]
     },
     "execution_count": 18,
     "metadata": {},
     "output_type": "execute_result"
    },
    {
     "data": {
      "image/png": "[encoded data removed]",
      "text/plain": [
       "<Figure size 432x288 with 1 Axes>"
      ]
     },
     "metadata": {
      "needs_background": "light"
     },
     "output_type": "display_data"
    }
   ],
   "source": [
    "df.groupby('fill').mean().plot(y='ttotal', )"
   ]
  },
  {
   "cell_type": "code",
   "execution_count": 19,
   "metadata": {},
   "outputs": [
    {
     "data": {
      "text/html": [
       "<div>\n",
       "<style scoped>\n",
       "    .dataframe tbody tr th:only-of-type {\n",
       "        vertical-align: middle;\n",
       "    }\n",
       "\n",
       "    .dataframe tbody tr th {\n",
       "        vertical-align: top;\n",
       "    }\n",
       "\n",
       "    .dataframe thead th {\n",
       "        text-align: right;\n",
       "    }\n",
       "</style>\n",
       "<table border=\"1\" class=\"dataframe\">\n",
       "  <thead>\n",
       "    <tr style=\"text-align: right;\">\n",
       "      <th></th>\n",
       "      <th>sizex</th>\n",
       "      <th>sizey</th>\n",
       "      <th>sizez</th>\n",
       "      <th>ndatapts</th>\n",
       "      <th>ttotal</th>\n",
       "      <th>tksearch</th>\n",
       "      <th>tfrsearch</th>\n",
       "      <th>tprocessing</th>\n",
       "    </tr>\n",
       "    <tr>\n",
       "      <th>fill</th>\n",
       "      <th></th>\n",
       "      <th></th>\n",
       "      <th></th>\n",
       "      <th></th>\n",
       "      <th></th>\n",
       "      <th></th>\n",
       "      <th></th>\n",
       "      <th></th>\n",
       "    </tr>\n",
       "  </thead>\n",
       "  <tbody>\n",
       "    <tr>\n",
       "      <th>2</th>\n",
       "      <td>0.005</td>\n",
       "      <td>0.01</td>\n",
       "      <td>0.005</td>\n",
       "      <td>7200</td>\n",
       "      <td>25.377367</td>\n",
       "      <td>0.057279</td>\n",
       "      <td>0.047319</td>\n",
       "      <td>25.263767</td>\n",
       "    </tr>\n",
       "    <tr>\n",
       "      <th>11</th>\n",
       "      <td>0.005</td>\n",
       "      <td>0.01</td>\n",
       "      <td>0.005</td>\n",
       "      <td>27881</td>\n",
       "      <td>13.011512</td>\n",
       "      <td>0.037039</td>\n",
       "      <td>0.026551</td>\n",
       "      <td>12.936959</td>\n",
       "    </tr>\n",
       "    <tr>\n",
       "      <th>14</th>\n",
       "      <td>0.005</td>\n",
       "      <td>0.01</td>\n",
       "      <td>0.005</td>\n",
       "      <td>37044</td>\n",
       "      <td>25.096033</td>\n",
       "      <td>0.057736</td>\n",
       "      <td>0.045887</td>\n",
       "      <td>24.983233</td>\n",
       "    </tr>\n",
       "    <tr>\n",
       "      <th>51</th>\n",
       "      <td>0.005</td>\n",
       "      <td>0.01</td>\n",
       "      <td>0.005</td>\n",
       "      <td>128000</td>\n",
       "      <td>3.545290</td>\n",
       "      <td>0.017008</td>\n",
       "      <td>0.010547</td>\n",
       "      <td>3.509610</td>\n",
       "    </tr>\n",
       "    <tr>\n",
       "      <th>100</th>\n",
       "      <td>0.005</td>\n",
       "      <td>0.01</td>\n",
       "      <td>0.005</td>\n",
       "      <td>250000</td>\n",
       "      <td>3.159143</td>\n",
       "      <td>0.019412</td>\n",
       "      <td>0.011226</td>\n",
       "      <td>3.119220</td>\n",
       "    </tr>\n",
       "  </tbody>\n",
       "</table>\n",
       "</div>"
      ],
      "text/plain": [
       "      sizex  sizey  sizez  ndatapts     ttotal  tksearch  tfrsearch  \\\n",
       "fill                                                                  \n",
       "2     0.005   0.01  0.005      7200  25.377367  0.057279   0.047319   \n",
       "11    0.005   0.01  0.005     27881  13.011512  0.037039   0.026551   \n",
       "14    0.005   0.01  0.005     37044  25.096033  0.057736   0.045887   \n",
       "51    0.005   0.01  0.005    128000   3.545290  0.017008   0.010547   \n",
       "100   0.005   0.01  0.005    250000   3.159143  0.019412   0.011226   \n",
       "\n",
       "      tprocessing  \n",
       "fill               \n",
       "2       25.263767  \n",
       "11      12.936959  \n",
       "14      24.983233  \n",
       "51       3.509610  \n",
       "100      3.119220  "
      ]
     },
     "execution_count": 19,
     "metadata": {},
     "output_type": "execute_result"
    }
   ],
   "source": [
    "df.groupby('fill').mean()"
   ]
  },
  {
   "cell_type": "code",
   "execution_count": null,
   "metadata": {},
   "outputs": [],
   "source": []
  }
 ],
 "metadata": {
  "kernelspec": {
   "display_name": "Python 3",
   "language": "python",
   "name": "python3"
  },
  "language_info": {
   "codemirror_mode": {
    "name": "ipython",
    "version": 3
   },
   "file_extension": ".py",
   "mimetype": "text/x-python",
   "name": "python",
   "nbconvert_exporter": "python",
   "pygments_lexer": "ipython3",
   "version": "3.6.7"
  },
  "toc": {
   "base_numbering": 1,
   "nav_menu": {},
   "number_sections": true,
   "sideBar": true,
   "skip_h1_title": false,
   "title_cell": "Table of Contents",
   "title_sidebar": "Contents",
   "toc_cell": false,
   "toc_position": {},
   "toc_section_display": true,
   "toc_window_display": false
  }
 },
 "nbformat": 4,
 "nbformat_minor": 2
}
