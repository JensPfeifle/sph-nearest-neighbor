{
 "cells": [
  {
   "cell_type": "code",
   "execution_count": 1,
   "metadata": {},
   "outputs": [],
   "source": [
    "%matplotlib inline\n",
    "import pandas as pd"
   ]
  },
  {
   "cell_type": "code",
   "execution_count": 2,
   "metadata": {},
   "outputs": [
    {
     "data": {
      "text/html": [
       "<div>\n",
       "<style scoped>\n",
       "    .dataframe tbody tr th:only-of-type {\n",
       "        vertical-align: middle;\n",
       "    }\n",
       "\n",
       "    .dataframe tbody tr th {\n",
       "        vertical-align: top;\n",
       "    }\n",
       "\n",
       "    .dataframe thead th {\n",
       "        text-align: right;\n",
       "    }\n",
       "</style>\n",
       "<table border=\"1\" class=\"dataframe\">\n",
       "  <thead>\n",
       "    <tr style=\"text-align: right;\">\n",
       "      <th></th>\n",
       "      <th>time</th>\n",
       "      <th>sizex</th>\n",
       "      <th>sizey</th>\n",
       "      <th>sizez</th>\n",
       "      <th>filltype</th>\n",
       "      <th>fill</th>\n",
       "      <th>ndatapts</th>\n",
       "      <th>ttotal</th>\n",
       "      <th>tksearch</th>\n",
       "      <th>tfrsearch</th>\n",
       "      <th>tprocessing</th>\n",
       "    </tr>\n",
       "  </thead>\n",
       "  <tbody>\n",
       "    <tr>\n",
       "      <th>0</th>\n",
       "      <td>2018-12-03T12:33:58.404637</td>\n",
       "      <td>0.005</td>\n",
       "      <td>0.01</td>\n",
       "      <td>0.005</td>\n",
       "      <td>cluster</td>\n",
       "      <td>0.125</td>\n",
       "      <td>31250</td>\n",
       "      <td>7.46484</td>\n",
       "      <td>0.037228</td>\n",
       "      <td>0.023862</td>\n",
       "      <td>7.38841</td>\n",
       "    </tr>\n",
       "    <tr>\n",
       "      <th>1</th>\n",
       "      <td>2018-12-03T12:34:06.438229</td>\n",
       "      <td>0.005</td>\n",
       "      <td>0.01</td>\n",
       "      <td>0.005</td>\n",
       "      <td>cluster</td>\n",
       "      <td>0.125</td>\n",
       "      <td>31250</td>\n",
       "      <td>7.18098</td>\n",
       "      <td>0.039670</td>\n",
       "      <td>0.023745</td>\n",
       "      <td>7.10491</td>\n",
       "    </tr>\n",
       "    <tr>\n",
       "      <th>2</th>\n",
       "      <td>2018-12-03T12:34:14.232467</td>\n",
       "      <td>0.005</td>\n",
       "      <td>0.01</td>\n",
       "      <td>0.005</td>\n",
       "      <td>cluster</td>\n",
       "      <td>0.125</td>\n",
       "      <td>31250</td>\n",
       "      <td>7.03559</td>\n",
       "      <td>0.034116</td>\n",
       "      <td>0.021830</td>\n",
       "      <td>6.96656</td>\n",
       "    </tr>\n",
       "    <tr>\n",
       "      <th>3</th>\n",
       "      <td>2018-12-03T12:34:22.242886</td>\n",
       "      <td>0.005</td>\n",
       "      <td>0.01</td>\n",
       "      <td>0.005</td>\n",
       "      <td>cluster</td>\n",
       "      <td>0.343</td>\n",
       "      <td>85750</td>\n",
       "      <td>12.75800</td>\n",
       "      <td>0.045625</td>\n",
       "      <td>0.032012</td>\n",
       "      <td>12.66610</td>\n",
       "    </tr>\n",
       "    <tr>\n",
       "      <th>4</th>\n",
       "      <td>2018-12-03T12:34:35.795165</td>\n",
       "      <td>0.005</td>\n",
       "      <td>0.01</td>\n",
       "      <td>0.005</td>\n",
       "      <td>cluster</td>\n",
       "      <td>0.343</td>\n",
       "      <td>85750</td>\n",
       "      <td>12.73210</td>\n",
       "      <td>0.043831</td>\n",
       "      <td>0.030755</td>\n",
       "      <td>12.64710</td>\n",
       "    </tr>\n",
       "  </tbody>\n",
       "</table>\n",
       "</div>"
      ],
      "text/plain": [
       "                         time  sizex  sizey  sizez filltype   fill  ndatapts  \\\n",
       "0  2018-12-03T12:33:58.404637  0.005   0.01  0.005  cluster  0.125     31250   \n",
       "1  2018-12-03T12:34:06.438229  0.005   0.01  0.005  cluster  0.125     31250   \n",
       "2  2018-12-03T12:34:14.232467  0.005   0.01  0.005  cluster  0.125     31250   \n",
       "3  2018-12-03T12:34:22.242886  0.005   0.01  0.005  cluster  0.343     85750   \n",
       "4  2018-12-03T12:34:35.795165  0.005   0.01  0.005  cluster  0.343     85750   \n",
       "\n",
       "     ttotal  tksearch  tfrsearch  tprocessing  \n",
       "0   7.46484  0.037228   0.023862      7.38841  \n",
       "1   7.18098  0.039670   0.023745      7.10491  \n",
       "2   7.03559  0.034116   0.021830      6.96656  \n",
       "3  12.75800  0.045625   0.032012     12.66610  \n",
       "4  12.73210  0.043831   0.030755     12.64710  "
      ]
     },
     "execution_count": 2,
     "metadata": {},
     "output_type": "execute_result"
    }
   ],
   "source": [
    "df = pd.read_csv('stats.csv')\n",
    "df.head()"
   ]
  },
  {
   "cell_type": "code",
   "execution_count": 19,
   "metadata": {},
   "outputs": [
    {
     "data": {
      "image/png": "[encoded data removed]",
      "text/plain": [
       "<Figure size 432x288 with 1 Axes>"
      ]
     },
     "metadata": {
      "needs_background": "light"
     },
     "output_type": "display_data"
    }
   ],
   "source": [
    "df.groupby('fill').mean().plot(y='ttotal',\n",
    "                               title='Run Time');"
   ]
  },
  {
   "cell_type": "code",
   "execution_count": 20,
   "metadata": {},
   "outputs": [
    {
     "data": {
      "image/png": "[encoded data removed]",
      "text/plain": [
       "<Figure size 432x288 with 1 Axes>"
      ]
     },
     "metadata": {
      "needs_background": "light"
     },
     "output_type": "display_data"
    }
   ],
   "source": [
    "df.groupby('fill').mean().plot(kind='area',\n",
    "                               y=['tksearch',\n",
    "                                  'tfrsearch',\n",
    "                                  'tprocessing'],\n",
    "                               title='Run Time');"
   ]
  },
  {
   "cell_type": "code",
   "execution_count": 21,
   "metadata": {},
   "outputs": [
    {
     "data": {
      "image/png": "[encoded data removed]",
      "text/plain": [
       "<Figure size 432x288 with 1 Axes>"
      ]
     },
     "metadata": {
      "needs_background": "light"
     },
     "output_type": "display_data"
    }
   ],
   "source": [
    "df.groupby('fill').mean().plot(kind='area',\n",
    "                               y=['tksearch',\n",
    "                                  'tfrsearch'],\n",
    "                               title='Run Time');"
   ]
  },
  {
   "cell_type": "code",
   "execution_count": null,
   "metadata": {},
   "outputs": [],
   "source": []
  }
 ],
 "metadata": {
  "kernelspec": {
   "display_name": "Python 3",
   "language": "python",
   "name": "python3"
  },
  "language_info": {
   "codemirror_mode": {
    "name": "ipython",
    "version": 3
   },
   "file_extension": ".py",
   "mimetype": "text/x-python",
   "name": "python",
   "nbconvert_exporter": "python",
   "pygments_lexer": "ipython3",
   "version": "3.6.7"
  },
  "toc": {
   "base_numbering": 1,
   "nav_menu": {},
   "number_sections": true,
   "sideBar": true,
   "skip_h1_title": false,
   "title_cell": "Table of Contents",
   "title_sidebar": "Contents",
   "toc_cell": false,
   "toc_position": {},
   "toc_section_display": true,
   "toc_window_display": false
  }
 },
 "nbformat": 4,
 "nbformat_minor": 2
}
