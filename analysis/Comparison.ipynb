{
 "cells": [
  {
   "cell_type": "code",
   "execution_count": 1,
   "metadata": {},
   "outputs": [],
   "source": [
    "%matplotlib inline\n",
    "import pandas as pd\n",
    "import seaborn as sns\n",
    "import matplotlib\n",
    "import matplotlib.pyplot as plt\n",
    "sns.set_style(\"whitegrid\")"
   ]
  },
  {
   "cell_type": "markdown",
   "metadata": {},
   "source": [
    "## Read data"
   ]
  },
  {
   "cell_type": "code",
   "execution_count": 2,
   "metadata": {},
   "outputs": [],
   "source": [
    "df_ann = pd.read_csv('stats_ann.csv')\n",
    "df_cll = pd.read_csv('stats_cll.csv')\n",
    "EDITED = False"
   ]
  },
  {
   "cell_type": "code",
   "execution_count": 7,
   "metadata": {},
   "outputs": [
    {
     "data": {
      "text/html": [
       "<div>\n",
       "<style scoped>\n",
       "    .dataframe tbody tr th:only-of-type {\n",
       "        vertical-align: middle;\n",
       "    }\n",
       "\n",
       "    .dataframe tbody tr th {\n",
       "        vertical-align: top;\n",
       "    }\n",
       "\n",
       "    .dataframe thead th {\n",
       "        text-align: right;\n",
       "    }\n",
       "</style>\n",
       "<table border=\"1\" class=\"dataframe\">\n",
       "  <thead>\n",
       "    <tr style=\"text-align: right;\">\n",
       "      <th></th>\n",
       "      <th>time</th>\n",
       "      <th>sizex</th>\n",
       "      <th>sizey</th>\n",
       "      <th>sizez</th>\n",
       "      <th>filltype</th>\n",
       "      <th>fill</th>\n",
       "      <th>ndatapts</th>\n",
       "      <th>ttotal</th>\n",
       "      <th>tksearch</th>\n",
       "      <th>tfrsearch</th>\n",
       "      <th>tprocessing</th>\n",
       "      <th>interactionlistmethod</th>\n",
       "    </tr>\n",
       "  </thead>\n",
       "  <tbody>\n",
       "    <tr>\n",
       "      <th>0</th>\n",
       "      <td>2018-12-03T23:32:54.750661</td>\n",
       "      <td>0.005</td>\n",
       "      <td>0.01</td>\n",
       "      <td>0.005</td>\n",
       "      <td>full</td>\n",
       "      <td>100</td>\n",
       "      <td>250000</td>\n",
       "      <td>2.84316</td>\n",
       "      <td>0.013806</td>\n",
       "      <td>0.008978</td>\n",
       "      <td>2.81298</td>\n",
       "      <td>0</td>\n",
       "    </tr>\n",
       "    <tr>\n",
       "      <th>1</th>\n",
       "      <td>2018-12-03T23:32:58.734194</td>\n",
       "      <td>0.005</td>\n",
       "      <td>0.01</td>\n",
       "      <td>0.005</td>\n",
       "      <td>full</td>\n",
       "      <td>100</td>\n",
       "      <td>250000</td>\n",
       "      <td>3.04899</td>\n",
       "      <td>0.016442</td>\n",
       "      <td>0.010490</td>\n",
       "      <td>3.00952</td>\n",
       "      <td>0</td>\n",
       "    </tr>\n",
       "    <tr>\n",
       "      <th>2</th>\n",
       "      <td>2018-12-03T23:33:02.890560</td>\n",
       "      <td>0.005</td>\n",
       "      <td>0.01</td>\n",
       "      <td>0.005</td>\n",
       "      <td>full</td>\n",
       "      <td>100</td>\n",
       "      <td>250000</td>\n",
       "      <td>2.86906</td>\n",
       "      <td>0.013673</td>\n",
       "      <td>0.009013</td>\n",
       "      <td>2.83881</td>\n",
       "      <td>0</td>\n",
       "    </tr>\n",
       "    <tr>\n",
       "      <th>3</th>\n",
       "      <td>2018-12-03T23:33:06.329319</td>\n",
       "      <td>0.005</td>\n",
       "      <td>0.01</td>\n",
       "      <td>0.005</td>\n",
       "      <td>clusters2</td>\n",
       "      <td>11</td>\n",
       "      <td>27648</td>\n",
       "      <td>17.04430</td>\n",
       "      <td>0.042520</td>\n",
       "      <td>0.033066</td>\n",
       "      <td>16.96050</td>\n",
       "      <td>0</td>\n",
       "    </tr>\n",
       "    <tr>\n",
       "      <th>4</th>\n",
       "      <td>2018-12-03T23:33:23.968568</td>\n",
       "      <td>0.005</td>\n",
       "      <td>0.01</td>\n",
       "      <td>0.005</td>\n",
       "      <td>clusters2</td>\n",
       "      <td>11</td>\n",
       "      <td>27648</td>\n",
       "      <td>16.76850</td>\n",
       "      <td>0.042704</td>\n",
       "      <td>0.032625</td>\n",
       "      <td>16.68450</td>\n",
       "      <td>0</td>\n",
       "    </tr>\n",
       "  </tbody>\n",
       "</table>\n",
       "</div>"
      ],
      "text/plain": [
       "                         time  sizex  sizey  sizez   filltype  fill  ndatapts  \\\n",
       "0  2018-12-03T23:32:54.750661  0.005   0.01  0.005       full   100    250000   \n",
       "1  2018-12-03T23:32:58.734194  0.005   0.01  0.005       full   100    250000   \n",
       "2  2018-12-03T23:33:02.890560  0.005   0.01  0.005       full   100    250000   \n",
       "3  2018-12-03T23:33:06.329319  0.005   0.01  0.005  clusters2    11     27648   \n",
       "4  2018-12-03T23:33:23.968568  0.005   0.01  0.005  clusters2    11     27648   \n",
       "\n",
       "     ttotal  tksearch  tfrsearch  tprocessing  interactionlistmethod  \n",
       "0   2.84316  0.013806   0.008978      2.81298                      0  \n",
       "1   3.04899  0.016442   0.010490      3.00952                      0  \n",
       "2   2.86906  0.013673   0.009013      2.83881                      0  \n",
       "3  17.04430  0.042520   0.033066     16.96050                      0  \n",
       "4  16.76850  0.042704   0.032625     16.68450                      0  "
      ]
     },
     "execution_count": 7,
     "metadata": {},
     "output_type": "execute_result"
    }
   ],
   "source": [
    "df_ann.head()"
   ]
  },
  {
   "cell_type": "code",
   "execution_count": 8,
   "metadata": {},
   "outputs": [
    {
     "data": {
      "text/html": [
       "<div>\n",
       "<style scoped>\n",
       "    .dataframe tbody tr th:only-of-type {\n",
       "        vertical-align: middle;\n",
       "    }\n",
       "\n",
       "    .dataframe tbody tr th {\n",
       "        vertical-align: top;\n",
       "    }\n",
       "\n",
       "    .dataframe thead th {\n",
       "        text-align: right;\n",
       "    }\n",
       "</style>\n",
       "<table border=\"1\" class=\"dataframe\">\n",
       "  <thead>\n",
       "    <tr style=\"text-align: right;\">\n",
       "      <th></th>\n",
       "      <th>time</th>\n",
       "      <th>sizex</th>\n",
       "      <th>sizey</th>\n",
       "      <th>sizez</th>\n",
       "      <th>filltype</th>\n",
       "      <th>fill</th>\n",
       "      <th>ndatapts</th>\n",
       "      <th>ttotal</th>\n",
       "      <th>tksearch</th>\n",
       "      <th>tfrsearch</th>\n",
       "      <th>tprocessing</th>\n",
       "    </tr>\n",
       "  </thead>\n",
       "  <tbody>\n",
       "    <tr>\n",
       "      <th>0</th>\n",
       "      <td>2018-12-17T16:32:39.548626</td>\n",
       "      <td>0.005</td>\n",
       "      <td>0.01</td>\n",
       "      <td>0.005</td>\n",
       "      <td>full</td>\n",
       "      <td>100</td>\n",
       "      <td>250000</td>\n",
       "      <td>0.006615</td>\n",
       "      <td>NaN</td>\n",
       "      <td>NaN</td>\n",
       "      <td>NaN</td>\n",
       "    </tr>\n",
       "    <tr>\n",
       "      <th>1</th>\n",
       "      <td>2018-12-17T16:32:40.904473</td>\n",
       "      <td>0.005</td>\n",
       "      <td>0.01</td>\n",
       "      <td>0.005</td>\n",
       "      <td>full</td>\n",
       "      <td>100</td>\n",
       "      <td>250000</td>\n",
       "      <td>0.013004</td>\n",
       "      <td>NaN</td>\n",
       "      <td>NaN</td>\n",
       "      <td>NaN</td>\n",
       "    </tr>\n",
       "    <tr>\n",
       "      <th>2</th>\n",
       "      <td>2018-12-17T16:32:42.159084</td>\n",
       "      <td>0.005</td>\n",
       "      <td>0.01</td>\n",
       "      <td>0.005</td>\n",
       "      <td>full</td>\n",
       "      <td>100</td>\n",
       "      <td>250000</td>\n",
       "      <td>0.007098</td>\n",
       "      <td>NaN</td>\n",
       "      <td>NaN</td>\n",
       "      <td>NaN</td>\n",
       "    </tr>\n",
       "    <tr>\n",
       "      <th>3</th>\n",
       "      <td>2018-12-17T16:32:43.317991</td>\n",
       "      <td>0.005</td>\n",
       "      <td>0.01</td>\n",
       "      <td>0.005</td>\n",
       "      <td>full</td>\n",
       "      <td>100</td>\n",
       "      <td>250000</td>\n",
       "      <td>0.007008</td>\n",
       "      <td>NaN</td>\n",
       "      <td>NaN</td>\n",
       "      <td>NaN</td>\n",
       "    </tr>\n",
       "    <tr>\n",
       "      <th>4</th>\n",
       "      <td>2018-12-17T16:32:44.537045</td>\n",
       "      <td>0.005</td>\n",
       "      <td>0.01</td>\n",
       "      <td>0.005</td>\n",
       "      <td>full</td>\n",
       "      <td>100</td>\n",
       "      <td>250000</td>\n",
       "      <td>0.007359</td>\n",
       "      <td>NaN</td>\n",
       "      <td>NaN</td>\n",
       "      <td>NaN</td>\n",
       "    </tr>\n",
       "  </tbody>\n",
       "</table>\n",
       "</div>"
      ],
      "text/plain": [
       "                         time  sizex  sizey  sizez filltype  fill  ndatapts  \\\n",
       "0  2018-12-17T16:32:39.548626  0.005   0.01  0.005     full   100    250000   \n",
       "1  2018-12-17T16:32:40.904473  0.005   0.01  0.005     full   100    250000   \n",
       "2  2018-12-17T16:32:42.159084  0.005   0.01  0.005     full   100    250000   \n",
       "3  2018-12-17T16:32:43.317991  0.005   0.01  0.005     full   100    250000   \n",
       "4  2018-12-17T16:32:44.537045  0.005   0.01  0.005     full   100    250000   \n",
       "\n",
       "     ttotal  tksearch  tfrsearch  tprocessing  \n",
       "0  0.006615       NaN        NaN          NaN  \n",
       "1  0.013004       NaN        NaN          NaN  \n",
       "2  0.007098       NaN        NaN          NaN  \n",
       "3  0.007008       NaN        NaN          NaN  \n",
       "4  0.007359       NaN        NaN          NaN  "
      ]
     },
     "execution_count": 8,
     "metadata": {},
     "output_type": "execute_result"
    }
   ],
   "source": [
    "df_cll.head()"
   ]
  },
  {
   "cell_type": "markdown",
   "metadata": {},
   "source": [
    "## Cleanup"
   ]
  },
  {
   "cell_type": "code",
   "execution_count": 9,
   "metadata": {},
   "outputs": [
    {
     "name": "stdout",
     "output_type": "stream",
     "text": [
      "Not reapplying cleanup.\n"
     ]
    }
   ],
   "source": [
    "if EDITED:\n",
    "    print(\"Not reapplying cleanup.\")\n",
    "else:\n",
    "    EDITED = True\n",
    "    # fill to percent\n",
    "    for df in [df_ann,df_cll]:\n",
    "        df['fill'] = (df['fill']*100).astype(int)\n"
   ]
  },
  {
   "cell_type": "markdown",
   "metadata": {},
   "source": [
    "## Laufzeit\n",
    "Alle durchläufe, nur Trennung nach filltype"
   ]
  },
  {
   "cell_type": "markdown",
   "metadata": {},
   "source": [
    "### Vergleich zwischen ANN und cell linked list (CLL)\n",
    "Beachte Achsenskalierung!"
   ]
  },
  {
   "cell_type": "code",
   "execution_count": 16,
   "metadata": {},
   "outputs": [
    {
     "data": {
      "image/png": "[encoded data removed]",
      "text/plain": [
       "<Figure size 864x432 with 2 Axes>"
      ]
     },
     "metadata": {
      "needs_background": "light"
     },
     "output_type": "display_data"
    }
   ],
   "source": [
    "fig, (ax1, ax2) = plt.subplots(1,2, figsize=(12,6))\n",
    "df_ann.groupby('filltype').mean().sort_values('ttotal').plot(kind='barh',\n",
    "                               y='ttotal',\n",
    "                               legend=False,\n",
    "                               title='Total runtime ANN',ax = ax1);\n",
    "df_cll.groupby('filltype').mean().sort_values('ttotal').plot(kind='barh',\n",
    "                               y='ttotal',\n",
    "                               legend=False,\n",
    "                               title='Total runtime CLL',ax = ax2);"
   ]
  },
  {
   "cell_type": "markdown",
   "metadata": {},
   "source": [
    "### Vergleich der Zeit der Listenerstellung und der Suche bei ANN\n",
    "$\n",
    "t_{Suche} = t_{BestimmungAnzahlNachbarn} + t_{BestimmungIndizesNachbarn}\n",
    "$\n",
    "\n",
    "Beachte Achsenskalierung!"
   ]
  },
  {
   "cell_type": "code",
   "execution_count": 17,
   "metadata": {
    "scrolled": false
   },
   "outputs": [
    {
     "data": {
      "image/png": "[encoded data removed]",
      "text/plain": [
       "<Figure size 864x432 with 2 Axes>"
      ]
     },
     "metadata": {
      "needs_background": "light"
     },
     "output_type": "display_data"
    }
   ],
   "source": [
    "df = df_ann\n",
    "fig, (ax1, ax2) = plt.subplots(1,2, figsize=(12,6))\n",
    "df.groupby('filltype').mean().sort_values('ttotal').plot(kind='barh',\n",
    "                               y='ttotal',\n",
    "                               legend=False,\n",
    "                               title='List processing time',ax = ax1);\n",
    "df.groupby('filltype').mean().sort_values('ttotal').plot(kind='barh',\n",
    "                               y=['tksearch',\n",
    "                                  'tfrsearch'],\n",
    "                               stacked=True,\n",
    "                               title='Search time',ax = ax2);"
   ]
  },
  {
   "cell_type": "code",
   "execution_count": null,
   "metadata": {},
   "outputs": [],
   "source": []
  }
 ],
 "metadata": {
  "kernelspec": {
   "display_name": "Python 3",
   "language": "python",
   "name": "python3"
  },
  "language_info": {
   "codemirror_mode": {
    "name": "ipython",
    "version": 3
   },
   "file_extension": ".py",
   "mimetype": "text/x-python",
   "name": "python",
   "nbconvert_exporter": "python",
   "pygments_lexer": "ipython3",
   "version": "3.6.7"
  },
  "toc": {
   "base_numbering": 1,
   "nav_menu": {},
   "number_sections": true,
   "sideBar": true,
   "skip_h1_title": false,
   "title_cell": "Table of Contents",
   "title_sidebar": "Contents",
   "toc_cell": false,
   "toc_position": {},
   "toc_section_display": true,
   "toc_window_display": false
  }
 },
 "nbformat": 4,
 "nbformat_minor": 2
}
