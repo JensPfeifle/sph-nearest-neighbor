{
 "cells": [
  {
   "cell_type": "code",
   "execution_count": 1,
   "metadata": {},
   "outputs": [],
   "source": [
    "import os\n",
    "import pandas as pd"
   ]
  },
  {
   "cell_type": "markdown",
   "metadata": {},
   "source": [
    "# Data input\n",
    "## Read data and cleanup\n",
    "Results files can be found in sph-nearest-neighbor/test/results/ \n",
    "\n",
    "Naming scheme: stats_BIN.csv e.g. stats_fr_ann.csv"
   ]
  },
  {
   "cell_type": "code",
   "execution_count": 2,
   "metadata": {},
   "outputs": [
    {
     "name": "stdout",
     "output_type": "stream",
     "text": [
      "Available files:\n"
     ]
    },
    {
     "data": {
      "text/plain": [
       "['stats_fr_cellLinkedList.csv',\n",
       " 'stats_fr_ann.csv.~2~',\n",
       " 'stats_fr_ann_nolist.csv.~5~',\n",
       " 'stats_fr_ann_nolist.csv.~1~',\n",
       " 'stats_fr_ann_nolist.csv.~4~',\n",
       " 'stats_fr_cellLinkedList.csv.~1~',\n",
       " 'stats_fr_ann.csv~',\n",
       " 'stats_fr_cellLinkedList.csv.~5~',\n",
       " 'stats_fr_cellLinkedList.csv.~4~',\n",
       " 'stats_fr_cellLinkedList.csv.~3~',\n",
       " 'stats_fr_ann_nolist.csv.~2~',\n",
       " 'stats_fr_ann_nolist.csv',\n",
       " 'stats_fr_ann.csv.~1~',\n",
       " 'stats_fr_ann_nolist.csv.~3~',\n",
       " 'stats_fr_cellLinkedList.csv.~2~',\n",
       " 'stats_fr_ann_method1.csv',\n",
       " 'stats_fr_ann_method0.csv',\n",
       " 'stats_fr_nanoflann.csv',\n",
       " 'stats_fr_ann.csv']"
      ]
     },
     "execution_count": 2,
     "metadata": {},
     "output_type": "execute_result"
    }
   ],
   "source": [
    "resultsdir = \"../test/results\"\n",
    "print(\"Available files:\")\n",
    "os.listdir(resultsdir)"
   ]
  },
  {
   "cell_type": "markdown",
   "metadata": {},
   "source": [
    "Going to read three files:"
   ]
  },
  {
   "cell_type": "code",
   "execution_count": 3,
   "metadata": {},
   "outputs": [],
   "source": [
    "statsfile_fr_cll = os.path.join(resultsdir, \"stats_fr_cellLinkedList.csv\")\n",
    "statsfile_fr_ann = os.path.join(resultsdir, \"stats_fr_ann.csv\")\n",
    "statsfile_fr_ann_nolist = os.path.join(resultsdir, \"stats_fr_ann_nolist.csv\")"
   ]
  },
  {
   "cell_type": "markdown",
   "metadata": {},
   "source": [
    "Read data and label search method, cleanup the fill, only keep relevant data, and combine to a single dataframe:"
   ]
  },
  {
   "cell_type": "code",
   "execution_count": 4,
   "metadata": {},
   "outputs": [],
   "source": [
    "df_cll = pd.read_csv(statsfile_fr_cll)\n",
    "df_cll = df_cll.assign(method=pd.Series([\"CLL\"]*len(df_cll)).values)\n",
    "df_annnl = pd.read_csv(statsfile_fr_ann_nolist)\n",
    "df_annnl = df_annnl.assign(method=pd.Series([\"ANN-NL\"]*len(df_annnl)).values)\n",
    "df_ann = pd.read_csv(statsfile_fr_ann)\n",
    "df_ann = df_ann.assign(method=pd.Series([\"ANN\"]*len(df_ann)).values)\n",
    "\n",
    "# set filltype to a nice integer percentage\n",
    "df_cll['fill'] = df_cll.fill.mul(100).astype(int)\n",
    "df_annnl['fill'] = df_annnl.fill.mul(100).astype(int)\n",
    "df_ann['fill'] = df_ann.fill.mul(100).astype(int);\n",
    "\n",
    "# drop unused columns from dataframes\n",
    "df_cll.drop(columns=[\"time\", \"sizex\", \"sizey\", \"sizez\"], inplace = True)\n",
    "df_annnl.drop(columns=[\"time\", \"sizex\", \"sizey\", \"sizez\"], inplace = True)\n",
    "df_ann.drop(columns=[\"time\", \"sizex\", \"sizey\", \"sizez\"], inplace = True)\n",
    "\n",
    "# combine to a single df\n",
    "df = pd.concat([df_cll, df_annnl, df_ann])"
   ]
  },
  {
   "cell_type": "markdown",
   "metadata": {},
   "source": [
    "## Max time cutoff\n",
    "Because in some cases with ANN search, list processing took hours, you can **set a cutoff for the maximum time and drop those observations from the dataframe.**.\n",
    "To do this, first sort the dataframe by ttotal:"
   ]
  },
  {
   "cell_type": "code",
   "execution_count": 5,
   "metadata": {},
   "outputs": [
    {
     "data": {
      "text/html": [
       "<div>\n",
       "<style scoped>\n",
       "    .dataframe tbody tr th:only-of-type {\n",
       "        vertical-align: middle;\n",
       "    }\n",
       "\n",
       "    .dataframe tbody tr th {\n",
       "        vertical-align: top;\n",
       "    }\n",
       "\n",
       "    .dataframe thead th {\n",
       "        text-align: right;\n",
       "    }\n",
       "</style>\n",
       "<table border=\"1\" class=\"dataframe\">\n",
       "  <thead>\n",
       "    <tr style=\"text-align: right;\">\n",
       "      <th></th>\n",
       "      <th>filltype</th>\n",
       "      <th>fill</th>\n",
       "      <th>ndatapts</th>\n",
       "      <th>ttotal</th>\n",
       "      <th>tksearch</th>\n",
       "      <th>tfrsearch</th>\n",
       "      <th>tprocessing</th>\n",
       "      <th>listmethod</th>\n",
       "      <th>memory</th>\n",
       "      <th>method</th>\n",
       "    </tr>\n",
       "  </thead>\n",
       "  <tbody>\n",
       "    <tr>\n",
       "      <th>16</th>\n",
       "      <td>corners</td>\n",
       "      <td>11</td>\n",
       "      <td>28158</td>\n",
       "      <td>1345.19</td>\n",
       "      <td>0.711435</td>\n",
       "      <td>0.451737</td>\n",
       "      <td>1343.96</td>\n",
       "      <td>0</td>\n",
       "      <td>50908</td>\n",
       "      <td>ANN</td>\n",
       "    </tr>\n",
       "    <tr>\n",
       "      <th>15</th>\n",
       "      <td>corners</td>\n",
       "      <td>11</td>\n",
       "      <td>28158</td>\n",
       "      <td>1342.73</td>\n",
       "      <td>0.701913</td>\n",
       "      <td>0.445528</td>\n",
       "      <td>1341.52</td>\n",
       "      <td>0</td>\n",
       "      <td>50972</td>\n",
       "      <td>ANN</td>\n",
       "    </tr>\n",
       "    <tr>\n",
       "      <th>18</th>\n",
       "      <td>corners</td>\n",
       "      <td>11</td>\n",
       "      <td>28158</td>\n",
       "      <td>1340.65</td>\n",
       "      <td>0.701537</td>\n",
       "      <td>0.438849</td>\n",
       "      <td>1339.45</td>\n",
       "      <td>0</td>\n",
       "      <td>50980</td>\n",
       "      <td>ANN</td>\n",
       "    </tr>\n",
       "    <tr>\n",
       "      <th>19</th>\n",
       "      <td>corners</td>\n",
       "      <td>11</td>\n",
       "      <td>28158</td>\n",
       "      <td>1337.01</td>\n",
       "      <td>0.708696</td>\n",
       "      <td>0.446213</td>\n",
       "      <td>1335.78</td>\n",
       "      <td>0</td>\n",
       "      <td>51056</td>\n",
       "      <td>ANN</td>\n",
       "    </tr>\n",
       "    <tr>\n",
       "      <th>17</th>\n",
       "      <td>corners</td>\n",
       "      <td>11</td>\n",
       "      <td>28158</td>\n",
       "      <td>1336.39</td>\n",
       "      <td>0.700407</td>\n",
       "      <td>0.442910</td>\n",
       "      <td>1335.18</td>\n",
       "      <td>0</td>\n",
       "      <td>51132</td>\n",
       "      <td>ANN</td>\n",
       "    </tr>\n",
       "  </tbody>\n",
       "</table>\n",
       "</div>"
      ],
      "text/plain": [
       "   filltype  fill  ndatapts   ttotal  tksearch  tfrsearch  tprocessing  \\\n",
       "16  corners    11     28158  1345.19  0.711435   0.451737      1343.96   \n",
       "15  corners    11     28158  1342.73  0.701913   0.445528      1341.52   \n",
       "18  corners    11     28158  1340.65  0.701537   0.438849      1339.45   \n",
       "19  corners    11     28158  1337.01  0.708696   0.446213      1335.78   \n",
       "17  corners    11     28158  1336.39  0.700407   0.442910      1335.18   \n",
       "\n",
       "    listmethod  memory method  \n",
       "16           0   50908    ANN  \n",
       "15           0   50972    ANN  \n",
       "18           0   50980    ANN  \n",
       "19           0   51056    ANN  \n",
       "17           0   51132    ANN  "
      ]
     },
     "execution_count": 5,
     "metadata": {},
     "output_type": "execute_result"
    }
   ],
   "source": [
    "df.sort_values(\"ttotal\", ascending=False).head()"
   ]
  },
  {
   "cell_type": "markdown",
   "metadata": {},
   "source": [
    "Choose a cutoff time and drop the values"
   ]
  },
  {
   "cell_type": "code",
   "execution_count": 6,
   "metadata": {},
   "outputs": [],
   "source": [
    "# in this case, not used\n",
    "max_time_cutoff = 1400 # [s]\n",
    "df = df[df[\"ttotal\"] <= max_time_cutoff]"
   ]
  },
  {
   "cell_type": "markdown",
   "metadata": {},
   "source": [
    "Resulting dataframe:"
   ]
  },
  {
   "cell_type": "code",
   "execution_count": 7,
   "metadata": {},
   "outputs": [
    {
     "data": {
      "text/html": [
       "<div>\n",
       "<style scoped>\n",
       "    .dataframe tbody tr th:only-of-type {\n",
       "        vertical-align: middle;\n",
       "    }\n",
       "\n",
       "    .dataframe tbody tr th {\n",
       "        vertical-align: top;\n",
       "    }\n",
       "\n",
       "    .dataframe thead th {\n",
       "        text-align: right;\n",
       "    }\n",
       "</style>\n",
       "<table border=\"1\" class=\"dataframe\">\n",
       "  <thead>\n",
       "    <tr style=\"text-align: right;\">\n",
       "      <th></th>\n",
       "      <th>filltype</th>\n",
       "      <th>fill</th>\n",
       "      <th>ndatapts</th>\n",
       "      <th>ttotal</th>\n",
       "      <th>tksearch</th>\n",
       "      <th>tfrsearch</th>\n",
       "      <th>tprocessing</th>\n",
       "      <th>listmethod</th>\n",
       "      <th>memory</th>\n",
       "      <th>method</th>\n",
       "    </tr>\n",
       "  </thead>\n",
       "  <tbody>\n",
       "    <tr>\n",
       "      <th>16</th>\n",
       "      <td>corners</td>\n",
       "      <td>11</td>\n",
       "      <td>28158</td>\n",
       "      <td>1345.19</td>\n",
       "      <td>0.711435</td>\n",
       "      <td>0.451737</td>\n",
       "      <td>1343.96</td>\n",
       "      <td>0</td>\n",
       "      <td>50908</td>\n",
       "      <td>ANN</td>\n",
       "    </tr>\n",
       "    <tr>\n",
       "      <th>15</th>\n",
       "      <td>corners</td>\n",
       "      <td>11</td>\n",
       "      <td>28158</td>\n",
       "      <td>1342.73</td>\n",
       "      <td>0.701913</td>\n",
       "      <td>0.445528</td>\n",
       "      <td>1341.52</td>\n",
       "      <td>0</td>\n",
       "      <td>50972</td>\n",
       "      <td>ANN</td>\n",
       "    </tr>\n",
       "    <tr>\n",
       "      <th>18</th>\n",
       "      <td>corners</td>\n",
       "      <td>11</td>\n",
       "      <td>28158</td>\n",
       "      <td>1340.65</td>\n",
       "      <td>0.701537</td>\n",
       "      <td>0.438849</td>\n",
       "      <td>1339.45</td>\n",
       "      <td>0</td>\n",
       "      <td>50980</td>\n",
       "      <td>ANN</td>\n",
       "    </tr>\n",
       "    <tr>\n",
       "      <th>19</th>\n",
       "      <td>corners</td>\n",
       "      <td>11</td>\n",
       "      <td>28158</td>\n",
       "      <td>1337.01</td>\n",
       "      <td>0.708696</td>\n",
       "      <td>0.446213</td>\n",
       "      <td>1335.78</td>\n",
       "      <td>0</td>\n",
       "      <td>51056</td>\n",
       "      <td>ANN</td>\n",
       "    </tr>\n",
       "    <tr>\n",
       "      <th>17</th>\n",
       "      <td>corners</td>\n",
       "      <td>11</td>\n",
       "      <td>28158</td>\n",
       "      <td>1336.39</td>\n",
       "      <td>0.700407</td>\n",
       "      <td>0.442910</td>\n",
       "      <td>1335.18</td>\n",
       "      <td>0</td>\n",
       "      <td>51132</td>\n",
       "      <td>ANN</td>\n",
       "    </tr>\n",
       "  </tbody>\n",
       "</table>\n",
       "</div>"
      ],
      "text/plain": [
       "   filltype  fill  ndatapts   ttotal  tksearch  tfrsearch  tprocessing  \\\n",
       "16  corners    11     28158  1345.19  0.711435   0.451737      1343.96   \n",
       "15  corners    11     28158  1342.73  0.701913   0.445528      1341.52   \n",
       "18  corners    11     28158  1340.65  0.701537   0.438849      1339.45   \n",
       "19  corners    11     28158  1337.01  0.708696   0.446213      1335.78   \n",
       "17  corners    11     28158  1336.39  0.700407   0.442910      1335.18   \n",
       "\n",
       "    listmethod  memory method  \n",
       "16           0   50908    ANN  \n",
       "15           0   50972    ANN  \n",
       "18           0   50980    ANN  \n",
       "19           0   51056    ANN  \n",
       "17           0   51132    ANN  "
      ]
     },
     "execution_count": 7,
     "metadata": {},
     "output_type": "execute_result"
    }
   ],
   "source": [
    "df.sort_values(\"ttotal\", ascending=False).head()"
   ]
  },
  {
   "cell_type": "markdown",
   "metadata": {},
   "source": [
    "## Convert memory values to MB\n",
    "time returns: Maximum resident set size of the process during its lifetime, in Kilobytes."
   ]
  },
  {
   "cell_type": "code",
   "execution_count": 8,
   "metadata": {},
   "outputs": [],
   "source": [
    "df[\"memory\"] = df[\"memory\"].multiply(1/1000)"
   ]
  },
  {
   "cell_type": "markdown",
   "metadata": {},
   "source": [
    "## Write out results to csv"
   ]
  },
  {
   "cell_type": "code",
   "execution_count": 9,
   "metadata": {},
   "outputs": [
    {
     "data": {
      "text/html": [
       "<div>\n",
       "<style scoped>\n",
       "    .dataframe tbody tr th:only-of-type {\n",
       "        vertical-align: middle;\n",
       "    }\n",
       "\n",
       "    .dataframe tbody tr th {\n",
       "        vertical-align: top;\n",
       "    }\n",
       "\n",
       "    .dataframe thead th {\n",
       "        text-align: right;\n",
       "    }\n",
       "</style>\n",
       "<table border=\"1\" class=\"dataframe\">\n",
       "  <thead>\n",
       "    <tr style=\"text-align: right;\">\n",
       "      <th></th>\n",
       "      <th>filltype</th>\n",
       "      <th>fill</th>\n",
       "      <th>ndatapts</th>\n",
       "      <th>ttotal</th>\n",
       "      <th>tksearch</th>\n",
       "      <th>tfrsearch</th>\n",
       "      <th>tprocessing</th>\n",
       "      <th>listmethod</th>\n",
       "      <th>memory</th>\n",
       "      <th>method</th>\n",
       "    </tr>\n",
       "  </thead>\n",
       "  <tbody>\n",
       "    <tr>\n",
       "      <th>0</th>\n",
       "      <td>full</td>\n",
       "      <td>100</td>\n",
       "      <td>250000</td>\n",
       "      <td>2.06572</td>\n",
       "      <td>0.0</td>\n",
       "      <td>0.0</td>\n",
       "      <td>0.0</td>\n",
       "      <td>-1</td>\n",
       "      <td>116.740</td>\n",
       "      <td>CLL</td>\n",
       "    </tr>\n",
       "    <tr>\n",
       "      <th>1</th>\n",
       "      <td>full</td>\n",
       "      <td>100</td>\n",
       "      <td>250000</td>\n",
       "      <td>2.16067</td>\n",
       "      <td>0.0</td>\n",
       "      <td>0.0</td>\n",
       "      <td>0.0</td>\n",
       "      <td>-1</td>\n",
       "      <td>116.784</td>\n",
       "      <td>CLL</td>\n",
       "    </tr>\n",
       "    <tr>\n",
       "      <th>2</th>\n",
       "      <td>full</td>\n",
       "      <td>100</td>\n",
       "      <td>250000</td>\n",
       "      <td>2.11499</td>\n",
       "      <td>0.0</td>\n",
       "      <td>0.0</td>\n",
       "      <td>0.0</td>\n",
       "      <td>-1</td>\n",
       "      <td>116.780</td>\n",
       "      <td>CLL</td>\n",
       "    </tr>\n",
       "    <tr>\n",
       "      <th>3</th>\n",
       "      <td>full</td>\n",
       "      <td>100</td>\n",
       "      <td>250000</td>\n",
       "      <td>2.17325</td>\n",
       "      <td>0.0</td>\n",
       "      <td>0.0</td>\n",
       "      <td>0.0</td>\n",
       "      <td>-1</td>\n",
       "      <td>116.748</td>\n",
       "      <td>CLL</td>\n",
       "    </tr>\n",
       "    <tr>\n",
       "      <th>4</th>\n",
       "      <td>full</td>\n",
       "      <td>100</td>\n",
       "      <td>250000</td>\n",
       "      <td>2.16133</td>\n",
       "      <td>0.0</td>\n",
       "      <td>0.0</td>\n",
       "      <td>0.0</td>\n",
       "      <td>-1</td>\n",
       "      <td>116.704</td>\n",
       "      <td>CLL</td>\n",
       "    </tr>\n",
       "  </tbody>\n",
       "</table>\n",
       "</div>"
      ],
      "text/plain": [
       "  filltype  fill  ndatapts   ttotal  tksearch  tfrsearch  tprocessing  \\\n",
       "0     full   100    250000  2.06572       0.0        0.0          0.0   \n",
       "1     full   100    250000  2.16067       0.0        0.0          0.0   \n",
       "2     full   100    250000  2.11499       0.0        0.0          0.0   \n",
       "3     full   100    250000  2.17325       0.0        0.0          0.0   \n",
       "4     full   100    250000  2.16133       0.0        0.0          0.0   \n",
       "\n",
       "   listmethod   memory method  \n",
       "0          -1  116.740    CLL  \n",
       "1          -1  116.784    CLL  \n",
       "2          -1  116.780    CLL  \n",
       "3          -1  116.748    CLL  \n",
       "4          -1  116.704    CLL  "
      ]
     },
     "execution_count": 9,
     "metadata": {},
     "output_type": "execute_result"
    }
   ],
   "source": [
    "df.head()"
   ]
  },
  {
   "cell_type": "code",
   "execution_count": 10,
   "metadata": {},
   "outputs": [],
   "source": [
    "df.to_csv(\"results_df.csv\", index=False)"
   ]
  }
 ],
 "metadata": {
  "kernelspec": {
   "display_name": "Python 3",
   "language": "python",
   "name": "python3"
  },
  "language_info": {
   "codemirror_mode": {
    "name": "ipython",
    "version": 3
   },
   "file_extension": ".py",
   "mimetype": "text/x-python",
   "name": "python",
   "nbconvert_exporter": "python",
   "pygments_lexer": "ipython3",
   "version": "3.6.7"
  },
  "toc": {
   "base_numbering": 1,
   "nav_menu": {},
   "number_sections": true,
   "sideBar": true,
   "skip_h1_title": false,
   "title_cell": "Table of Contents",
   "title_sidebar": "Contents",
   "toc_cell": false,
   "toc_position": {},
   "toc_section_display": true,
   "toc_window_display": false
  }
 },
 "nbformat": 4,
 "nbformat_minor": 2
}
