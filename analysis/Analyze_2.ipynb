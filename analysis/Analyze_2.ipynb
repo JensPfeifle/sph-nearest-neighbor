{
 "cells": [
  {
   "cell_type": "code",
   "execution_count": 11,
   "metadata": {},
   "outputs": [],
   "source": [
    "%matplotlib inline\n",
    "import pandas as pd"
   ]
  },
  {
   "cell_type": "code",
   "execution_count": 12,
   "metadata": {},
   "outputs": [
    {
     "data": {
      "text/html": [
       "<div>\n",
       "<style scoped>\n",
       "    .dataframe tbody tr th:only-of-type {\n",
       "        vertical-align: middle;\n",
       "    }\n",
       "\n",
       "    .dataframe tbody tr th {\n",
       "        vertical-align: top;\n",
       "    }\n",
       "\n",
       "    .dataframe thead th {\n",
       "        text-align: right;\n",
       "    }\n",
       "</style>\n",
       "<table border=\"1\" class=\"dataframe\">\n",
       "  <thead>\n",
       "    <tr style=\"text-align: right;\">\n",
       "      <th></th>\n",
       "      <th>time</th>\n",
       "      <th>sizex</th>\n",
       "      <th>sizey</th>\n",
       "      <th>sizez</th>\n",
       "      <th>filltype</th>\n",
       "      <th>fill</th>\n",
       "      <th>ndatapts</th>\n",
       "      <th>ttotal</th>\n",
       "      <th>tksearch</th>\n",
       "      <th>tfrsearch</th>\n",
       "      <th>tprocessing</th>\n",
       "      <th>interactionlistmethod</th>\n",
       "    </tr>\n",
       "  </thead>\n",
       "  <tbody>\n",
       "    <tr>\n",
       "      <th>0</th>\n",
       "      <td>2018-12-03T23:32:54.750661</td>\n",
       "      <td>0.005</td>\n",
       "      <td>0.01</td>\n",
       "      <td>0.005</td>\n",
       "      <td>full</td>\n",
       "      <td>1.0</td>\n",
       "      <td>250000</td>\n",
       "      <td>2.84316</td>\n",
       "      <td>0.0138059</td>\n",
       "      <td>0.00897837</td>\n",
       "      <td>2.81298</td>\n",
       "      <td>0.0</td>\n",
       "    </tr>\n",
       "    <tr>\n",
       "      <th>1</th>\n",
       "      <td>2018-12-03T23:32:58.734194</td>\n",
       "      <td>0.005</td>\n",
       "      <td>0.01</td>\n",
       "      <td>0.005</td>\n",
       "      <td>full</td>\n",
       "      <td>1.0</td>\n",
       "      <td>250000</td>\n",
       "      <td>3.04899</td>\n",
       "      <td>0.0164416</td>\n",
       "      <td>0.0104905</td>\n",
       "      <td>3.00952</td>\n",
       "      <td>0.0</td>\n",
       "    </tr>\n",
       "    <tr>\n",
       "      <th>2</th>\n",
       "      <td>2018-12-03T23:33:02.890560</td>\n",
       "      <td>0.005</td>\n",
       "      <td>0.01</td>\n",
       "      <td>0.005</td>\n",
       "      <td>full</td>\n",
       "      <td>1.0</td>\n",
       "      <td>250000</td>\n",
       "      <td>2.86906</td>\n",
       "      <td>0.0136733</td>\n",
       "      <td>0.00901349</td>\n",
       "      <td>2.83881</td>\n",
       "      <td>0.0</td>\n",
       "    </tr>\n",
       "    <tr>\n",
       "      <th>3</th>\n",
       "      <td>2018-12-03T23:33:06.329319</td>\n",
       "      <td>0.005</td>\n",
       "      <td>0.01</td>\n",
       "      <td>0.005</td>\n",
       "      <td>clusters2</td>\n",
       "      <td>0.110592</td>\n",
       "      <td>27648</td>\n",
       "      <td>17.0443</td>\n",
       "      <td>0.0425199</td>\n",
       "      <td>0.0330663</td>\n",
       "      <td>16.9605</td>\n",
       "      <td>0.0</td>\n",
       "    </tr>\n",
       "    <tr>\n",
       "      <th>4</th>\n",
       "      <td>2018-12-03T23:33:23.968568</td>\n",
       "      <td>0.005</td>\n",
       "      <td>0.01</td>\n",
       "      <td>0.005</td>\n",
       "      <td>clusters2</td>\n",
       "      <td>0.110592</td>\n",
       "      <td>27648</td>\n",
       "      <td>16.7685</td>\n",
       "      <td>0.0427039</td>\n",
       "      <td>0.0326254</td>\n",
       "      <td>16.6845</td>\n",
       "      <td>0.0</td>\n",
       "    </tr>\n",
       "  </tbody>\n",
       "</table>\n",
       "</div>"
      ],
      "text/plain": [
       "                         time  sizex sizey  sizez   filltype      fill  \\\n",
       "0  2018-12-03T23:32:54.750661  0.005  0.01  0.005       full       1.0   \n",
       "1  2018-12-03T23:32:58.734194  0.005  0.01  0.005       full       1.0   \n",
       "2  2018-12-03T23:33:02.890560  0.005  0.01  0.005       full       1.0   \n",
       "3  2018-12-03T23:33:06.329319  0.005  0.01  0.005  clusters2  0.110592   \n",
       "4  2018-12-03T23:33:23.968568  0.005  0.01  0.005  clusters2  0.110592   \n",
       "\n",
       "  ndatapts   ttotal   tksearch   tfrsearch tprocessing  interactionlistmethod  \n",
       "0   250000  2.84316  0.0138059  0.00897837     2.81298                    0.0  \n",
       "1   250000  3.04899  0.0164416   0.0104905     3.00952                    0.0  \n",
       "2   250000  2.86906  0.0136733  0.00901349     2.83881                    0.0  \n",
       "3    27648  17.0443  0.0425199   0.0330663     16.9605                    0.0  \n",
       "4    27648  16.7685  0.0427039   0.0326254     16.6845                    0.0  "
      ]
     },
     "execution_count": 12,
     "metadata": {},
     "output_type": "execute_result"
    }
   ],
   "source": [
    "df = pd.read_csv('stats.csv')\n",
    "df.head()"
   ]
  },
  {
   "cell_type": "code",
   "execution_count": 21,
   "metadata": {},
   "outputs": [],
   "source": [
    "df_unsorted = df[df['interactionlistmethod'] == 0]\n",
    "df_sorted = df[df['interactionlistmethod'] == 1]"
   ]
  },
  {
   "cell_type": "code",
   "execution_count": 9,
   "metadata": {},
   "outputs": [
    {
     "data": {
      "image/png": "[encoded data removed]",
      "text/plain": [
       "<Figure size 432x288 with 1 Axes>"
      ]
     },
     "metadata": {
      "needs_background": "light"
     },
     "output_type": "display_data"
    }
   ],
   "source": [
    "df.groupby('fill').mean().plot(kind='bar',\n",
    "                               y=['tksearch',\n",
    "                                  'tfrsearch',\n",
    "                                  'tprocessing'],\n",
    "                               stacked=True,\n",
    "                               title='Run Time');"
   ]
  },
  {
   "cell_type": "code",
   "execution_count": 10,
   "metadata": {},
   "outputs": [
    {
     "data": {
      "image/png": "[encoded data removed]",
      "text/plain": [
       "<Figure size 432x288 with 1 Axes>"
      ]
     },
     "metadata": {
      "needs_background": "light"
     },
     "output_type": "display_data"
    }
   ],
   "source": [
    "df.groupby('fill').mean().plot(kind='bar',\n",
    "                               y=['tksearch',\n",
    "                                  'tfrsearch'],\n",
    "                               stacked=True,\n",
    "                               title='Run Time');"
   ]
  },
  {
   "cell_type": "code",
   "execution_count": null,
   "metadata": {},
   "outputs": [],
   "source": []
  }
 ],
 "metadata": {
  "kernelspec": {
   "display_name": "Python 3",
   "language": "python",
   "name": "python3"
  },
  "language_info": {
   "codemirror_mode": {
    "name": "ipython",
    "version": 3
   },
   "file_extension": ".py",
   "mimetype": "text/x-python",
   "name": "python",
   "nbconvert_exporter": "python",
   "pygments_lexer": "ipython3",
   "version": "3.6.7"
  },
  "toc": {
   "base_numbering": 1,
   "nav_menu": {},
   "number_sections": true,
   "sideBar": true,
   "skip_h1_title": false,
   "title_cell": "Table of Contents",
   "title_sidebar": "Contents",
   "toc_cell": false,
   "toc_position": {},
   "toc_section_display": true,
   "toc_window_display": false
  }
 },
 "nbformat": 4,
 "nbformat_minor": 2
}
